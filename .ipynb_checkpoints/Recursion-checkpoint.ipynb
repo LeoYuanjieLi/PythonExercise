{
 "cells": [
  {
   "cell_type": "code",
   "execution_count": 1,
   "metadata": {
    "collapsed": true
   },
   "outputs": [],
   "source": [
    "def make_empty(seq):\n",
    "    \"\"\"\n",
    "      >>> make_empty([1, 2, 3, 4])\n",
    "      []\n",
    "      >>> make_empty(('a', 'b', 'c'))\n",
    "      ()\n",
    "      >>> make_empty(\"No, not me!\")\n",
    "      ''\n",
    "    \"\"\"\n",
    "    if type(seq) == list:\n",
    "        return list()\n",
    "    elif type(seq) == tuple:\n",
    "        return tuple()\n",
    "    elif type(seq) == str:\n",
    "        return str()"
   ]
  },
  {
   "cell_type": "code",
   "execution_count": 2,
   "metadata": {
    "collapsed": false
   },
   "outputs": [
    {
     "data": {
      "text/plain": [
       "[]"
      ]
     },
     "execution_count": 2,
     "metadata": {},
     "output_type": "execute_result"
    }
   ],
   "source": [
    "make_empty([1,3,4])"
   ]
  },
  {
   "cell_type": "code",
   "execution_count": 3,
   "metadata": {
    "collapsed": true
   },
   "outputs": [],
   "source": [
    "def remove_at(index, seq):\n",
    "    \"\"\"\n",
    "      >>> remove_at(3, [1, 7, 11, 9, 10])\n",
    "      [1, 7, 11, 10]\n",
    "      >>> remove_at(5, (1, 4, 6, 7, 0, 9, 3, 5))\n",
    "      (1, 4, 6, 7, 0, 3, 5)\n",
    "      >>> remove_at(2, \"Yomrktown\")\n",
    "      'Yorktown'\n",
    "    \"\"\"\n",
    "    if type(seq) == list:\n",
    "        seq.remove(seq[index])\n",
    "        return seq\n",
    "    elif type(seq) == tuple:\n",
    "        a = list(seq)\n",
    "        a.remove(a[index])\n",
    "        return tuple(a)\n",
    "    elif type(seq) == str:\n",
    "        a = list(seq)\n",
    "        a.remove(a[index])\n",
    "        return ''.join(a)"
   ]
  },
  {
   "cell_type": "code",
   "execution_count": 7,
   "metadata": {
    "collapsed": false
   },
   "outputs": [
    {
     "name": "stdout",
     "output_type": "stream",
     "text": [
      "1\n",
      "1\n"
     ]
    }
   ],
   "source": [
    "class Kls(object):\n",
    "    no_inst = 0\n",
    " \n",
    "    def __init__(self):\n",
    "        Kls.no_inst = Kls.no_inst + 1\n",
    " \n",
    "    @classmethod\n",
    "    def get_no_of_instance(cls_obj):\n",
    "        return cls_obj.no_inst\n",
    " \n",
    "ik1 = Kls()\n",
    "\n",
    " \n",
    "print (ik1.get_no_of_instance())\n",
    "print (Kls.get_no_of_instance())"
   ]
  },
  {
   "cell_type": "code",
   "execution_count": null,
   "metadata": {
    "collapsed": true
   },
   "outputs": [],
   "source": []
  }
 ],
 "metadata": {
  "anaconda-cloud": {},
  "kernelspec": {
   "display_name": "Python [Root]",
   "language": "python",
   "name": "Python [Root]"
  },
  "language_info": {
   "codemirror_mode": {
    "name": "ipython",
    "version": 3
   },
   "file_extension": ".py",
   "mimetype": "text/x-python",
   "name": "python",
   "nbconvert_exporter": "python",
   "pygments_lexer": "ipython3",
   "version": "3.5.2"
  }
 },
 "nbformat": 4,
 "nbformat_minor": 0
}
